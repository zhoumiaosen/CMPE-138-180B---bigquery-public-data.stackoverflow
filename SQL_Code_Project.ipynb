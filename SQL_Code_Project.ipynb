{
  "cells": [
    {
      "cell_type": "markdown",
      "source": [
        "#Stackoverflow Database\n"
      ],
      "metadata": {
        "id": "3IchtWAbVzlY"
      }
    },
    {
      "cell_type": "markdown",
      "source": [
        "*Feature 1: Verify Whether a Question Has Been Answered*\n",
        "\n",
        "\n",
        "\n"
      ],
      "metadata": {
        "id": "6zVAKP5vV3iS"
      }
    },
    {
      "cell_type": "code",
      "source": [
        "SELECT\n",
        " Q.title,Q.body,Q.answer_count\n",
        "FROM\n",
        "  `bigquery-public-data.stackoverflow.posts_questions` as Q\n",
        "WHERE\n",
        "  Q.id =18"
      ],
      "metadata": {
        "id": "T-K9URrHV15e"
      },
      "execution_count": null,
      "outputs": []
    },
    {
      "cell_type": "markdown",
      "source": [
        "*Feature 2: Identify the Best Answer Based on Its Score*\n",
        "\n"
      ],
      "metadata": {
        "id": "CzWXq0GP4A5-"
      }
    },
    {
      "cell_type": "code",
      "source": [
        "SELECT\n",
        "A.id,A.owner_user_id,A.body,A.score\n",
        "FROM\n",
        "  `bigquery-public-data.stackoverflow.posts_questions` as Q\n",
        "  JOIN\n",
        "  `bigquery-public-data.stackoverflow.posts_answers` as A\n",
        "  ON Q.id = A.parent_id\n",
        "  WHERE\n",
        "    Q.id=18 AND\n",
        "    A.score =(\n",
        "       SELECT max(a.score)\n",
        "        FROM `bigquery-public-data.stackoverflow.posts_answers` as a\n",
        "        WHERE a.parent_id =18 )"
      ],
      "metadata": {
        "id": "miXL1I5AV24x"
      },
      "execution_count": null,
      "outputs": []
    },
    {
      "cell_type": "markdown",
      "source": [
        "*Feature 3: Check Total Comments Scores on a Specific Answer*"
      ],
      "metadata": {
        "id": "NTYgxqkw4Zwj"
      }
    },
    {
      "cell_type": "code",
      "source": [
        "SELECT\n",
        "SUM(C.score)\n",
        "FROM\n",
        "  `bigquery-public-data.stackoverflow.comments` as C\n",
        "  JOIN\n",
        "  `bigquery-public-data.stackoverflow.posts_answers` as A\n",
        "  ON C.post_id = A.id\n",
        "  WHERE\n",
        "    A.id = 18"
      ],
      "metadata": {
        "id": "Vizp7o0p4mTW"
      },
      "execution_count": null,
      "outputs": []
    },
    {
      "cell_type": "markdown",
      "source": [
        "*Feature 4: Check User Activity with Total Number of Badge*\n",
        "\n"
      ],
      "metadata": {
        "id": "M4dvrVNN4rS9"
      }
    },
    {
      "cell_type": "code",
      "source": [
        "SELECT\n",
        "  U.id, COUNT(U)\n",
        "FROM\n",
        "  `bigquery-public-data.stackoverflow.users` as U\n",
        "  JOIN\n",
        "  `bigquery-public-data.stackoverflow.badges` as B\n",
        "  ON U.id = B.user_id\n",
        "  WHERE\n",
        "    U.id = 18\n",
        "  GROUP BY\n",
        "    U.id"
      ],
      "metadata": {
        "id": "0yJ26Bow5FEJ"
      },
      "execution_count": null,
      "outputs": []
    },
    {
      "cell_type": "markdown",
      "source": [
        "*Feature 5: Verify the Users Reputation*"
      ],
      "metadata": {
        "id": "B6zIYWkv9g7O"
      }
    },
    {
      "cell_type": "code",
      "source": [
        "SELECT\n",
        "  U.id, U.reputation\n",
        "FROM\n",
        "  `bigquery-public-data.stackoverflow.users` as U\n",
        "  WHERE\n",
        "    U.id = 18"
      ],
      "metadata": {
        "id": "XLKtd51x5GwO"
      },
      "execution_count": null,
      "outputs": []
    }
  ],
  "metadata": {
    "anaconda-cloud": {},
    "jupytext": {
      "formats": "ipynb,md"
    },
    "kernelspec": {
      "display_name": "Python 3 (ipykernel)",
      "language": "python",
      "name": "python3"
    },
    "language_info": {
      "codemirror_mode": {
        "name": "ipython",
        "version": 3
      },
      "file_extension": ".py",
      "mimetype": "text/x-python",
      "name": "python",
      "nbconvert_exporter": "python",
      "pygments_lexer": "ipython3",
      "version": "3.9.2"
    },
    "colab": {
      "provenance": []
    }
  },
  "nbformat": 4,
  "nbformat_minor": 0
}